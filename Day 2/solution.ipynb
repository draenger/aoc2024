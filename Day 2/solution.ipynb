{
 "cells": [
  {
   "cell_type": "markdown",
   "metadata": {},
   "source": [
    "--- Day 2: Red-Nosed Reports ---\n",
    "\n",
    "Fortunately, the first location The Historians want to search isn't a long walk from the Chief Historian's office.\n",
    "\n",
    "While the Red-Nosed Reindeer nuclear fusion/fission plant appears to contain no sign of the Chief Historian, the engineers there run up to you as soon as they see you. Apparently, they still talk about the time Rudolph was saved through molecular synthesis from a single electron.\n",
    "\n",
    "They're quick to add that - since you're already here - they'd really appreciate your help analyzing some unusual data from the Red-Nosed reactor. You turn to check if The Historians are waiting for you, but they seem to have already divided into groups that are currently searching every corner of the facility. You offer to help with the unusual data.\n",
    "\n",
    "The unusual data (your puzzle input) consists of many reports, one report per line. Each report is a list of numbers called levels that are separated by spaces. For example:\n",
    "\n",
    "7 6 4 2 1\n",
    "1 2 7 8 9\n",
    "9 7 6 2 1\n",
    "1 3 2 4 5\n",
    "8 6 4 4 1\n",
    "1 3 6 7 9\n",
    "\n",
    "This example data contains six reports each containing five levels.\n",
    "\n",
    "The engineers are trying to figure out which reports are safe. The Red-Nosed reactor safety systems can only tolerate levels that are either gradually increasing or gradually decreasing. So, a report only counts as safe if both of the following are true:\n",
    "\n",
    "    The levels are either all increasing or all decreasing.\n",
    "    Any two adjacent levels differ by at least one and at most three.\n",
    "\n",
    "In the example above, the reports can be found safe or unsafe by checking those rules:\n",
    "\n",
    "    7 6 4 2 1: Safe because the levels are all decreasing by 1 or 2.\n",
    "    1 2 7 8 9: Unsafe because 2 7 is an increase of 5.\n",
    "    9 7 6 2 1: Unsafe because 6 2 is a decrease of 4.\n",
    "    1 3 2 4 5: Unsafe because 1 3 is increasing but 3 2 is decreasing.\n",
    "    8 6 4 4 1: Unsafe because 4 4 is neither an increase or a decrease.\n",
    "    1 3 6 7 9: Safe because the levels are all increasing by 1, 2, or 3.\n",
    "\n",
    "So, in this example, 2 reports are safe.\n",
    "\n",
    "Analyze the unusual data from the engineers. How many reports are safe?\n"
   ]
  },
  {
   "cell_type": "code",
   "execution_count": 1,
   "metadata": {},
   "outputs": [
    {
     "name": "stdout",
     "output_type": "stream",
     "text": [
      "\n",
      "Liczba prawidłowych raportów: 230\n",
      "Całkowita liczba raportów: 1000\n"
     ]
    },
    {
     "data": {
      "text/plain": [
       "230"
      ]
     },
     "execution_count": 1,
     "metadata": {},
     "output_type": "execute_result"
    }
   ],
   "source": [
    "def read_reports(file_path):\n",
    "    reports = []\n",
    "    with open(file_path, 'r') as file:\n",
    "        for line in file:\n",
    "            # Konwertujemy każdą linię na listę liczb\n",
    "            numbers = list(map(int, line.strip().split()))\n",
    "            reports.append(numbers)\n",
    "    return reports\n",
    "\n",
    "def check_sequence(numbers):\n",
    "    # Sprawdzamy czy liczby rosną lub maleją o dozwolony interwał (1-3)\n",
    "    is_increasing = True\n",
    "    is_decreasing = True\n",
    "    \n",
    "    for i in range(1, len(numbers)):\n",
    "        diff = numbers[i] - numbers[i-1]\n",
    "        \n",
    "        if diff == 0:\n",
    "            return False\n",
    "        \n",
    "        # Sprawdzamy czy sekwencja rośnie\n",
    "        if diff < 0:\n",
    "            is_increasing = False\n",
    "            if diff < -3:\n",
    "                return False\n",
    "            \n",
    "        # Sprawdzamy czy sekwencja maleje\n",
    "        if diff > 0:\n",
    "            is_decreasing = False\n",
    "            if diff > 3:\n",
    "                return False\n",
    "    \n",
    "    # Zwracamy True jeśli sekwencja albo rośnie albo maleje\n",
    "    return is_increasing or is_decreasing\n",
    "\n",
    "def analyze_reports(file_path):\n",
    "    reports = read_reports(file_path)\n",
    "    valid_reports = 0\n",
    "    \n",
    "    for i, report in enumerate(reports, 1):\n",
    "        if check_sequence(report):\n",
    "            valid_reports += 1\n",
    "            # print(f\"Raport {i}: {report} - Prawidłowa sekwencja\")\n",
    "    \n",
    "    print(f\"\\nLiczba prawidłowych raportów: {valid_reports}\")\n",
    "    print(f\"Całkowita liczba raportów: {len(reports)}\")\n",
    "    \n",
    "    return valid_reports\n",
    "\n",
    "\n",
    "analyze_reports(\"input.txt\") "
   ]
  },
  {
   "cell_type": "markdown",
   "metadata": {},
   "source": [
    "Your puzzle answer was 230.\n",
    "\n",
    "The first half of this puzzle is complete! It provides one gold star: *\n",
    "--- Part Two ---\n",
    "\n",
    "The engineers are surprised by the low number of safe reports until they realize they forgot to tell you about the Problem Dampener.\n",
    "\n",
    "The Problem Dampener is a reactor-mounted module that lets the reactor safety systems tolerate a single bad level in what would otherwise be a safe report. It's like the bad level never happened!\n",
    "\n",
    "Now, the same rules apply as before, except if removing a single level from an unsafe report would make it safe, the report instead counts as safe.\n",
    "\n",
    "More of the above example's reports are now safe:\n",
    "\n",
    "    7 6 4 2 1: Safe without removing any level.\n",
    "    1 2 7 8 9: Unsafe regardless of which level is removed.\n",
    "    9 7 6 2 1: Unsafe regardless of which level is removed.\n",
    "    1 3 2 4 5: Safe by removing the second level, 3.\n",
    "    8 6 4 4 1: Safe by removing the third level, 4.\n",
    "    1 3 6 7 9: Safe without removing any level.\n",
    "\n",
    "Thanks to the Problem Dampener, 4 reports are actually safe!\n",
    "\n",
    "Update your analysis by handling situations where the Problem Dampener can remove a single level from unsafe reports. How many reports are now safe?\n"
   ]
  },
  {
   "cell_type": "code",
   "execution_count": 2,
   "metadata": {},
   "outputs": [
    {
     "name": "stdout",
     "output_type": "stream",
     "text": [
      "\n",
      "Liczba bezpiecznych raportów: 301\n",
      "Całkowita liczba raportów: 1000\n"
     ]
    },
    {
     "data": {
      "text/plain": [
       "301"
      ]
     },
     "execution_count": 2,
     "metadata": {},
     "output_type": "execute_result"
    }
   ],
   "source": [
    "def read_reports(file_path):\n",
    "    reports = []\n",
    "    with open(file_path, 'r') as file:\n",
    "        for line in file:\n",
    "            numbers = list(map(int, line.strip().split()))\n",
    "            reports.append(numbers)\n",
    "    return reports\n",
    "\n",
    "def check_sequence(numbers):\n",
    "    # Sprawdzamy czy liczby rosną lub maleją o dozwolony interwał (1-3)\n",
    "    is_increasing = True\n",
    "    is_decreasing = True\n",
    "    \n",
    "    for i in range(1, len(numbers)):\n",
    "        diff = numbers[i] - numbers[i-1]\n",
    "        \n",
    "        if diff == 0:\n",
    "            return False\n",
    "        \n",
    "        if diff < 0:\n",
    "            is_increasing = False\n",
    "            if diff < -3:\n",
    "                return False\n",
    "            \n",
    "        if diff > 0:\n",
    "            is_decreasing = False\n",
    "            if diff > 3:\n",
    "                return False\n",
    "    \n",
    "    return is_increasing or is_decreasing\n",
    "\n",
    "def check_with_dampener(numbers):\n",
    "    # Najpierw sprawdzamy czy sekwencja jest bezpieczna bez usuwania\n",
    "    if check_sequence(numbers):\n",
    "        return True\n",
    "    \n",
    "    # Próbujemy usunąć każdy poziom po kolei i sprawdzić czy sekwencja staje się bezpieczna\n",
    "    for i in range(len(numbers)):\n",
    "        # Tworzymy nową listę bez i-tego elementu\n",
    "        dampened_numbers = numbers[:i] + numbers[i+1:]\n",
    "        if check_sequence(dampened_numbers):\n",
    "            return True\n",
    "            \n",
    "    return False\n",
    "\n",
    "def analyze_reports(file_path):\n",
    "    reports = read_reports(file_path)\n",
    "    valid_reports = 0\n",
    "    \n",
    "    for report in reports:\n",
    "        if check_with_dampener(report):\n",
    "            valid_reports += 1\n",
    "    \n",
    "    print(f\"\\nLiczba bezpiecznych raportów: {valid_reports}\")\n",
    "    print(f\"Całkowita liczba raportów: {len(reports)}\")\n",
    "    \n",
    "    return valid_reports\n",
    "\n",
    "analyze_reports(\"input.txt\") "
   ]
  },
  {
   "cell_type": "markdown",
   "metadata": {},
   "source": [
    "Your puzzle answer was 301.\n",
    "\n",
    "Both parts of this puzzle are complete! They provide two gold stars: **"
   ]
  }
 ],
 "metadata": {
  "kernelspec": {
   "display_name": "Python 3",
   "language": "python",
   "name": "python3"
  },
  "language_info": {
   "codemirror_mode": {
    "name": "ipython",
    "version": 3
   },
   "file_extension": ".py",
   "mimetype": "text/x-python",
   "name": "python",
   "nbconvert_exporter": "python",
   "pygments_lexer": "ipython3",
   "version": "3.12.5"
  }
 },
 "nbformat": 4,
 "nbformat_minor": 2
}
